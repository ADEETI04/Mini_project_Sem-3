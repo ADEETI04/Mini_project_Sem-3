{
 "cells": [
  {
   "cell_type": "markdown",
   "metadata": {},
   "source": [
    "# **Inventory Demand Forecasting - Model Exploration**"
   ]
  },
  {
   "cell_type": "markdown",
   "metadata": {},
   "source": [
    "# 1. Setup and Initial Imports"
   ]
  },
  {
   "cell_type": "code",
   "execution_count": null,
   "metadata": {},
   "outputs": [],
   "source": [
    "# Basic data manipulation and analysis\n",
    "import pandas as pd\n",
    "import numpy as np\n",
    "\n",
    "# Visualization\n",
    "import matplotlib.pyplot as plt\n",
    "import seaborn as sns\n",
    "import plotly.express as px\n",
    "import plotly.graph_objects as go\n",
    "\n",
    "# Time series analysis\n",
    "from statsmodels.tsa.seasonal import seasonal_decompose\n",
    "from statsmodels.tsa.stattools import adfuller\n",
    "\n",
    "# Machine learning\n",
    "from sklearn.preprocessing import StandardScaler\n",
    "from sklearn.model_selection import train_test_split\n",
    "from sklearn.metrics import mean_absolute_error, mean_squared_error, r2_score\n",
    "\n",
    "# Deep learning\n",
    "import tensorflow as tf\n",
    "from tensorflow.keras.models import Sequential\n",
    "from tensorflow.keras.layers import LSTM, Dense, Dropout\n",
    "\n",
    "# Project modules\n",
    "import sys\n",
    "sys.path.append('..')\n",
    "from src.data_processor import DataProcessor\n",
    "from src.feature_engineering import AdvancedFeatureEngineer\n",
    "from src.model_ensemble import ModelEnsemble\n",
    "from src.evaluator import ModelEvaluator\n",
    "from src.visualizer import Visualizer\n",
    "\n",
    "# Settings\n",
    "import warnings\n",
    "warnings.filterwarnings('ignore')\n",
    "plt.style.use('seaborn')\n",
    "%matplotlib inline\n",
    "\n",
    "# Display settings\n",
    "pd.set_option('display.max_columns', None)\n",
    "pd.set_option('display.float_format', lambda x: '%.3f' % x)"
   ]
  },
  {
   "cell_type": "markdown",
   "metadata": {},
   "source": [
    "# 2. Data Loading and Initial Exploration"
   ]
  },
  {
   "cell_type": "code",
   "execution_count": null,
   "metadata": {},
   "outputs": [],
   "source": [
    "# Initialize processor\n",
    "processor = DataProcessor()\n",
    "df = processor.load_data('../data/train.csv')\n",
    "\n",
    "# Display basic information\n",
    "print(\"Dataset Shape:\", df.shape)\n",
    "print(\"\\nData Types:\")\n",
    "print(df.dtypes)\n",
    "print(\"\\nMissing Values:\")\n",
    "print(df.isnull().sum())"
   ]
  },
  {
   "cell_type": "code",
   "execution_count": null,
   "metadata": {},
   "outputs": [],
   "source": [
    "# Basic statistics\n",
    "df.describe()"
   ]
  },
  {
   "cell_type": "code",
   "execution_count": null,
   "metadata": {},
   "outputs": [],
   "source": [
    "# Display first few rows\n",
    "df.head()"
   ]
  },
  {
   "cell_type": "markdown",
   "metadata": {},
   "source": []
  },
  {
   "cell_type": "markdown",
   "metadata": {},
   "source": [
    "# 3. Time Series Analysis"
   ]
  },
  {
   "cell_type": "markdown",
   "metadata": {},
   "source": [
    "### 3.1 Sales Distribution and Trends"
   ]
  },
  {
   "cell_type": "code",
   "execution_count": null,
   "metadata": {},
   "outputs": [],
   "source": [
    "# Plot overall sales distribution\n",
    "plt.figure(figsize=(12, 6))\n",
    "plt.hist(df['sales'], bins=50)\n",
    "plt.title('Distribution of Sales')\n",
    "plt.xlabel('Sales')\n",
    "plt.ylabel('Frequency')\n",
    "plt.show()\n",
    "\n",
    "# Plot sales trends\n",
    "plt.figure(figsize=(15, 6))\n",
    "daily_sales = df.groupby('date')['sales'].mean()\n",
    "daily_sales.plot()\n",
    "plt.title('Average Daily Sales Over Time')\n",
    "plt.xlabel('Date')\n",
    "plt.ylabel('Average Sales')\n",
    "plt.show()"
   ]
  },
  {
   "cell_type": "markdown",
   "metadata": {},
   "source": [
    "### 3.2 Seasonal Decomposition"
   ]
  },
  {
   "cell_type": "code",
   "execution_count": null,
   "metadata": {},
   "outputs": [],
   "source": [
    "# Perform seasonal decomposition\n",
    "decomposition = seasonal_decompose(daily_sales, period=30)\n",
    "\n",
    "# Plot components\n",
    "plt.figure(figsize=(15, 12))\n",
    "\n",
    "plt.subplot(411)\n",
    "plt.plot(decomposition.observed)\n",
    "plt.title('Observed')\n",
    "\n",
    "plt.subplot(412)\n",
    "plt.plot(decomposition.trend)\n",
    "plt.title('Trend')\n",
    "\n",
    "plt.subplot(413)\n",
    "plt.plot(decomposition.seasonal)\n",
    "plt.title('Seasonal')\n",
    "\n",
    "plt.subplot(414)\n",
    "plt.plot(decomposition.resid)\n",
    "plt.title('Residual')\n",
    "\n",
    "plt.tight_layout()\n",
    "plt.show()"
   ]
  },
  {
   "cell_type": "markdown",
   "metadata": {},
   "source": [
    "### 3.3 Store and Item Analysis"
   ]
  },
  {
   "cell_type": "code",
   "execution_count": null,
   "metadata": {},
   "outputs": [],
   "source": [
    "# Sales by store\n",
    "store_sales = df.groupby(['store', 'date'])['sales'].mean().unstack()\n",
    "plt.figure(figsize=(15, 6))\n",
    "sns.boxplot(data=store_sales)\n",
    "plt.title('Sales Distribution by Store')\n",
    "plt.xticks(rotation=45)\n",
    "plt.show()\n",
    "\n",
    "# Top selling items\n",
    "item_sales = df.groupby('item')['sales'].sum().sort_values(ascending=False)\n",
    "plt.figure(figsize=(12, 6))\n",
    "item_sales.head(10).plot(kind='bar')\n",
    "plt.title('Top 10 Items by Total Sales')\n",
    "plt.xlabel('Item')\n",
    "plt.ylabel('Total Sales')\n",
    "plt.show()"
   ]
  },
  {
   "cell_type": "markdown",
   "metadata": {},
   "source": [
    "# 4. Feature Engineering"
   ]
  },
  {
   "cell_type": "markdown",
   "metadata": {},
   "source": []
  },
  {
   "cell_type": "code",
   "execution_count": null,
   "metadata": {},
   "outputs": [],
   "source": [
    "# Initialize feature engineer\n",
    "engineer = AdvancedFeatureEngineer()\n",
    "processed_df = engineer.create_features(df)\n",
    "\n",
    "# Display new features\n",
    "print(\"Created Features:\")\n",
    "new_features = set(processed_df.columns) - set(df.columns)\n",
    "print(sorted(new_features))"
   ]
  },
  {
   "cell_type": "markdown",
   "metadata": {},
   "source": [
    "### 4.1 Feature Correlations"
   ]
  },
  {
   "cell_type": "code",
   "execution_count": null,
   "metadata": {},
   "outputs": [],
   "source": [
    "# Calculate correlations\n",
    "corr_matrix = processed_df.select_dtypes(include=[np.number]).corr()\n",
    "\n",
    "# Plot correlation heatmap\n",
    "plt.figure(figsize=(15, 12))\n",
    "sns.heatmap(corr_matrix, annot=True, cmap='coolwarm', center=0)\n",
    "plt.title('Feature Correlations')\n",
    "plt.show()"
   ]
  },
  {
   "cell_type": "markdown",
   "metadata": {},
   "source": [
    "# 5. Model Development and Evaluation"
   ]
  },
  {
   "cell_type": "markdown",
   "metadata": {},
   "source": [
    "### 5.1 Data Preparation"
   ]
  },
  {
   "cell_type": "code",
   "execution_count": null,
   "metadata": {},
   "outputs": [],
   "source": [
    "# Split data\n",
    "train_data = processed_df[processed_df['date'] < '2017-12-01']\n",
    "test_data = processed_df[processed_df['date'] >= '2017-12-01']\n",
    "\n",
    "print(\"Train set shape:\", train_data.shape)\n",
    "print(\"Test set shape:\", test_data.shape)"
   ]
  },
  {
   "cell_type": "markdown",
   "metadata": {},
   "source": [
    "### 5.2 Model Training and Evaluation"
   ]
  },
  {
   "cell_type": "code",
   "execution_count": null,
   "metadata": {},
   "outputs": [],
   "source": [
    "# Initialize ensemble\n",
    "ensemble = ModelEnsemble()\n",
    "ensemble.build_models()\n",
    "\n",
    "# Train models\n",
    "features = train_data.drop(['date', 'sales'], axis=1)\n",
    "target = train_data['sales']\n",
    "\n",
    "for model_name in ensemble.models:\n",
    "    print(f\"Training {model_name}...\")\n",
    "    ensemble.train_model(model_name, features, target)\n",
    "\n",
    "# Generate predictions\n",
    "test_features = test_data.drop(['date', 'sales'], axis=1)\n",
    "predictions = ensemble.ensemble_predict(test_features)"
   ]
  },
  {
   "cell_type": "markdown",
   "metadata": {},
   "source": [
    "### 5.3 Performance Evaluation"
   ]
  },
  {
   "cell_type": "code",
   "execution_count": null,
   "metadata": {},
   "outputs": [],
   "source": [
    "# Initialize evaluator\n",
    "evaluator = ModelEvaluator()\n",
    "metrics = evaluator.calculate_metrics(test_data['sales'].values, predictions, 'ensemble')\n",
    "\n",
    "# Display metrics\n",
    "print(\"\\nModel Performance Metrics:\")\n",
    "for metric, value in metrics.items():\n",
    "    print(f\"{metric}: {value:.4f}\")"
   ]
  },
  {
   "cell_type": "markdown",
   "metadata": {},
   "source": [
    "### 5.4 Visualization of Results"
   ]
  },
  {
   "cell_type": "code",
   "execution_count": null,
   "metadata": {},
   "outputs": [],
   "source": [
    "# Initialize visualizer\n",
    "visualizer = Visualizer()\n",
    "\n",
    "# Plot actual vs predicted\n",
    "fig = visualizer.plot_forecast_comparison(\n",
    "    test_data['sales'].values,\n",
    "    {'Ensemble': predictions},\n",
    "    test_data['date']\n",
    ")\n",
    "fig.show()\n",
    "\n",
    "# Plot residuals analysis\n",
    "fig = visualizer.plot_residuals_analysis(\n",
    "    test_data['sales'].values,\n",
    "    predictions\n",
    ")\n",
    "fig.show()"
   ]
  },
  {
   "cell_type": "markdown",
   "metadata": {},
   "source": [
    "# 6. Feature Importance Analysis"
   ]
  },
  {
   "cell_type": "code",
   "execution_count": null,
   "metadata": {},
   "outputs": [],
   "source": [
    "# Get feature importance from XGBoost model\n",
    "importance_df = engineer.get_feature_importance(\n",
    "    ensemble.models['xgboost'],\n",
    "    features.columns\n",
    ")\n",
    "\n",
    "# Plot feature importance\n",
    "visualizer.plot_feature_importance(importance_df)"
   ]
  },
  {
   "cell_type": "markdown",
   "metadata": {},
   "source": [
    "# 7. Conclusions and Recommendations\n",
    "\n",
    "### Key findings:\n",
    "\n",
    "1. Sales show strong seasonal patterns with [describe patterns]\n",
    "2. Most important features are [list top features]\n",
    "3. The ensemble model achieves [state performance] accuracy\n",
    "\n",
    "\n",
    "### Recommendations:\n",
    "\n",
    "1. Sales show strong seasonal patterns with [describe patterns]\n",
    "2. Most important features are [list top features]\n",
    "3. The ensemble model achieves [state performance] accuracy"
   ]
  },
  {
   "cell_type": "markdown",
   "metadata": {},
   "source": []
  }
 ],
 "metadata": {
  "kernelspec": {
   "display_name": "Python 3",
   "language": "python",
   "name": "python3"
  },
  "language_info": {
   "name": "python",
   "version": "3.12.6"
  }
 },
 "nbformat": 4,
 "nbformat_minor": 2
}
